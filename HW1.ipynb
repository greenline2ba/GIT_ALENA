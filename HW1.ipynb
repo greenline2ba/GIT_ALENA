{
 "cells": [
  {
   "cell_type": "code",
   "execution_count": null,
   "id": "ac9f6e15",
   "metadata": {},
   "outputs": [],
   "source": []
  },
  {
   "cell_type": "code",
   "execution_count": null,
   "id": "8474fe0a",
   "metadata": {},
   "outputs": [],
   "source": []
  },
  {
   "cell_type": "code",
   "execution_count": 3,
   "id": "71191540",
   "metadata": {},
   "outputs": [
    {
     "name": "stdout",
     "output_type": "stream",
     "text": [
      "<class 'float'>\n",
      "<class 'int'>\n",
      "<class 'str'>\n"
     ]
    }
   ],
   "source": [
    "x = 3\n",
    "y = 4.5\n",
    "z= \"Hello\"\n",
    "print (type(y))\n",
    "print (type(x))\n",
    "print (type(z))"
   ]
  },
  {
   "cell_type": "code",
   "execution_count": 5,
   "id": "c92fb4d6",
   "metadata": {},
   "outputs": [
    {
     "name": "stdout",
     "output_type": "stream",
     "text": [
      "26\n"
     ]
    }
   ],
   "source": [
    "x = 3\n",
    "y = 10\n",
    "print ((x+y)+(x+y))\n",
    "\n",
    "\n"
   ]
  },
  {
   "cell_type": "code",
   "execution_count": 11,
   "id": "00e3f7db",
   "metadata": {},
   "outputs": [
    {
     "name": "stdout",
     "output_type": "stream",
     "text": [
      "28\n",
      "28\n",
      "28\n"
     ]
    }
   ],
   "source": [
    "x = 3\n",
    "y = 10\n",
    "print ((y-x)*4)\n",
    "\n",
    "print ((y-x)+(y-x)+(y-x)+(y-x))\n",
    "\n",
    "result = 28\n",
    "print (result)\n",
    "\n"
   ]
  },
  {
   "cell_type": "code",
   "execution_count": 15,
   "id": "9ca03e0c",
   "metadata": {},
   "outputs": [
    {
     "name": "stdout",
     "output_type": "stream",
     "text": [
      "Alena 15.01.1982 email@email.com\n"
     ]
    }
   ],
   "source": [
    "name = \"Alena\"\n",
    "DOB = \"15.01.1982\"\n",
    "email = \"email@email.com\"\n",
    "print (name, DOB, email)\n"
   ]
  },
  {
   "cell_type": "code",
   "execution_count": 18,
   "id": "bb2de2f5",
   "metadata": {},
   "outputs": [
    {
     "name": "stdout",
     "output_type": "stream",
     "text": [
      "200\n",
      "154.0\n"
     ]
    }
   ],
   "source": [
    "H_wage = 5\n",
    "H_amount =40\n",
    "gross_pay = (H_wage * H_amount)\n",
    "print (gross_pay)\n",
    "gross_pay_netto = ((H_wage * H_amount)*0.77)\n",
    "print (gross_pay_netto)\n"
   ]
  }
 ],
 "metadata": {
  "kernelspec": {
   "display_name": "Python 3",
   "language": "python",
   "name": "python3"
  },
  "language_info": {
   "codemirror_mode": {
    "name": "ipython",
    "version": 3
   },
   "file_extension": ".py",
   "mimetype": "text/x-python",
   "name": "python",
   "nbconvert_exporter": "python",
   "pygments_lexer": "ipython3",
   "version": "3.13.5"
  }
 },
 "nbformat": 4,
 "nbformat_minor": 5
}
