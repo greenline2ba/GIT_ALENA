{
 "cells": [
  {
   "cell_type": "code",
   "execution_count": null,
   "id": "ac9f6e15",
   "metadata": {},
   "outputs": [],
   "source": []
  },
  {
   "cell_type": "code",
   "execution_count": null,
   "id": "8474fe0a",
   "metadata": {},
   "outputs": [],
   "source": []
  },
  {
   "cell_type": "code",
   "execution_count": 3,
   "id": "71191540",
   "metadata": {},
   "outputs": [
    {
     "name": "stdout",
     "output_type": "stream",
     "text": [
      "<class 'float'>\n",
      "<class 'int'>\n",
      "<class 'str'>\n"
     ]
    }
   ],
   "source": [
    "x = 3\n",
    "y = 4.5\n",
    "z= \"Hello\"\n",
    "print (type(y))\n",
    "print (type(x))\n",
    "print (type(z))"
   ]
  },
  {
   "cell_type": "code",
   "execution_count": 5,
   "id": "c92fb4d6",
   "metadata": {},
   "outputs": [
    {
     "name": "stdout",
     "output_type": "stream",
     "text": [
      "26\n"
     ]
    }
   ],
   "source": [
    "x = 3\n",
    "y = 10\n",
    "print ((x+y)+(x+y))\n",
    "\n",
    "\n"
   ]
  },
  {
   "cell_type": "code",
   "execution_count": 11,
   "id": "00e3f7db",
   "metadata": {},
   "outputs": [
    {
     "name": "stdout",
     "output_type": "stream",
     "text": [
      "28\n",
      "28\n",
      "28\n"
     ]
    }
   ],
   "source": [
    "x = 3\n",
    "y = 10\n",
    "print ((y-x)*4)\n",
    "\n",
    "print ((y-x)+(y-x)+(y-x)+(y-x))\n",
    "\n",
    "result = 28\n",
    "print (result)\n",
    "\n"
   ]
  },
  {
   "cell_type": "code",
   "execution_count": 15,
   "id": "9ca03e0c",
   "metadata": {},
   "outputs": [
    {
     "name": "stdout",
     "output_type": "stream",
     "text": [
      "Alena 15.01.1982 email@email.com\n"
     ]
    }
   ],
   "source": [
    "name = \"Alena\"\n",
    "DOB = \"15.01.1982\"\n",
    "email = \"email@email.com\"\n",
    "print (name, DOB, email)\n"
   ]
  },
  {
   "cell_type": "code",
   "execution_count": 18,
   "id": "bb2de2f5",
   "metadata": {},
   "outputs": [
    {
     "name": "stdout",
     "output_type": "stream",
     "text": [
      "200\n",
      "154.0\n"
     ]
    }
   ],
   "source": [
    "H_wage = 5\n",
    "H_amount =40\n",
    "gross_pay = (H_wage * H_amount)\n",
    "print (gross_pay)\n",
    "gross_pay_netto = ((H_wage * H_amount)*0.77)\n",
    "print (gross_pay_netto)\n"
   ]
  },
  {
   "cell_type": "code",
   "execution_count": 32,
   "id": "dfaad9c2",
   "metadata": {},
   "outputs": [
    {
     "name": "stdout",
     "output_type": "stream",
     "text": [
      "3491.781782694653\n"
     ]
    }
   ],
   "source": [
    "loanAtStart= 1000\n",
    "interest1 = (1000 * (0.021/12)+100)\n",
    "month1 = loanAtStart + interest1\n",
    "interest2 = (month1 * (0.021/12)+100)\n",
    "month2 = month1 + interest2\n",
    "interest3 = (month2 * (0.021/12)+100)\n",
    "month3 = month2 + interest3\n",
    "interest4 = (month3 * (0.021/12)+100)\n",
    "month4 = month3 + interest4\n",
    "interest5 = (month4 * (0.021/12)+100)\n",
    "month5 = month4 + interest5\n",
    "interest6 = (month5 * (0.021/12)+100)\n",
    "month6 = month5 + interest6\n",
    "interest7 = (month6 * (0.021/12)+100)\n",
    "month7 = month6 + interest7\n",
    "interest8 = (month7 * (0.021/12)+100)\n",
    "month8 = month7 + interest8\n",
    "interest9 = (month8 * (0.021/12)+100)\n",
    "month9 = month8 + interest9\n",
    "interest10 = (month9 * (0.021/12)+100)\n",
    "month10 = month9 + interest10\n",
    "interest11 = (month10 * (0.021/12)+100)\n",
    "month11 = month10 + interest11\n",
    "interest12 = (month11 * (0.021/12)+100)\n",
    "month12 = month11 + interest12\n",
    "interest13 = (month12 * (0.021/12)+100)\n",
    "month13 = month12 + interest13\n",
    "interest14 = (month13 * (0.021/12)+100)\n",
    "month14 = month13 + interest14\n",
    "interest15 = (month14 * (0.021/12)+100)\n",
    "month15 = month14 + interest15\n",
    "interest16 = (month15 * (0.021/12)+100)\n",
    "month16 = month15 + interest16\n",
    "interest17 = (month16 * (0.021/12)+100)\n",
    "month17 = month16 + interest17\n",
    "interest18 = (month17 * (0.021/12)+100)\n",
    "month18 = month17 + interest18\n",
    "interest19 = (month18 * (0.021/12)+100)\n",
    "month19 = month18 + interest19\n",
    "interest20 = (month19 * (0.021/12)+100)\n",
    "month20 = month19 + interest20\n",
    "interest21 = (month20 * (0.021/12)+100)\n",
    "month21 = month20 + interest21\n",
    "interest22 = (month21 * (0.021/12)+100)\n",
    "month22 = month21 + interest22\n",
    "interest23 = (month22 * (0.021/12)+100)\n",
    "month23 = month22 + interest23\n",
    "interest24 = (month23 * (0.021/12)+100)\n",
    "month24 = (month23 + interest24)\n",
    "\n",
    "\n",
    "print (month24)"
   ]
  }
 ],
 "metadata": {
  "kernelspec": {
   "display_name": "Python 3",
   "language": "python",
   "name": "python3"
  },
  "language_info": {
   "codemirror_mode": {
    "name": "ipython",
    "version": 3
   },
   "file_extension": ".py",
   "mimetype": "text/x-python",
   "name": "python",
   "nbconvert_exporter": "python",
   "pygments_lexer": "ipython3",
   "version": "3.13.5"
  }
 },
 "nbformat": 4,
 "nbformat_minor": 5
}
