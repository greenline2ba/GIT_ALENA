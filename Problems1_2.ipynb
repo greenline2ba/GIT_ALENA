{
 "cells": [
  {
   "cell_type": "code",
   "execution_count": 7,
   "id": "4974f871",
   "metadata": {},
   "outputs": [
    {
     "name": "stdout",
     "output_type": "stream",
     "text": [
      "3\n",
      "6\n",
      "9\n",
      "12\n",
      "15\n",
      "18\n",
      "21\n"
     ]
    }
   ],
   "source": [
    "my_range = range(3,22,3)\n",
    "for x in my_range:\n",
    "    print(x)"
   ]
  },
  {
   "cell_type": "code",
   "execution_count": 14,
   "id": "e2710a97",
   "metadata": {},
   "outputs": [
    {
     "name": "stdout",
     "output_type": "stream",
     "text": [
      "A\n"
     ]
    }
   ],
   "source": [
    "#Create a variable score between 0 and 100. Use control flows to assign a letter grade (A: 90-100, B: 80-89, C: 70-79, D: 60-69, F: below 60).\n",
    "\n",
    "score = 95\n",
    "\n",
    "\n",
    "\n",
    "\n",
    "if score <= 100 and score >= 90:\n",
    "    print(\"A\")\n",
    "elif score <= 89 and score >= 80:\n",
    "    print(\"B\")\n",
    "elif score <= 79 and score >= 70:\n",
    "    print(\"C\")\n",
    "elif score <= 69 and score >= 60:\n",
    "    print(\"D\")\n",
    "else: \n",
    "    print(\"F\")\n",
    "\n"
   ]
  },
  {
   "cell_type": "code",
   "execution_count": 3,
   "id": "9798f960",
   "metadata": {},
   "outputs": [
    {
     "name": "stdout",
     "output_type": "stream",
     "text": [
      "Alena\n",
      "Alena\n",
      "Alena\n",
      "Alena\n",
      "Alena\n",
      "Alena\n",
      "Alena\n",
      "Alena\n",
      "Alena\n",
      "Alena\n",
      "Alena\n"
     ]
    }
   ],
   "source": [
    "count = 1\n",
    "\n",
    "while count < 12:\n",
    "    print (\"Alena\") \n",
    "    count += 1  "
   ]
  }
 ],
 "metadata": {
  "kernelspec": {
   "display_name": "base",
   "language": "python",
   "name": "python3"
  },
  "language_info": {
   "codemirror_mode": {
    "name": "ipython",
    "version": 3
   },
   "file_extension": ".py",
   "mimetype": "text/x-python",
   "name": "python",
   "nbconvert_exporter": "python",
   "pygments_lexer": "ipython3",
   "version": "3.12.7"
  }
 },
 "nbformat": 4,
 "nbformat_minor": 5
}
