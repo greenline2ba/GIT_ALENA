{
 "cells": [
  {
   "cell_type": "code",
   "execution_count": null,
   "id": "4b494c04",
   "metadata": {},
   "outputs": [],
   "source": []
  },
  {
   "cell_type": "code",
   "execution_count": 7,
   "id": "4974f871",
   "metadata": {},
   "outputs": [
    {
     "name": "stdout",
     "output_type": "stream",
     "text": [
      "3\n",
      "6\n",
      "9\n",
      "12\n",
      "15\n",
      "18\n",
      "21\n"
     ]
    }
   ],
   "source": [
    "my_range = range(3,22,3)\n",
    "for x in my_range:\n",
    "    print(x)"
   ]
  },
  {
   "cell_type": "code",
   "execution_count": 1,
   "id": "9803ef43",
   "metadata": {},
   "outputs": [
    {
     "name": "stdout",
     "output_type": "stream",
     "text": [
      "{'Jozef', 'Anna', 'Peter'}\n"
     ]
    }
   ],
   "source": [
    "mena = [\"Anna\", \"Peter\", \"Anna\", \"Jozef\", \"Peter\"]\n",
    "unikatne_mena = set(mena)\n",
    "print(unikatne_mena)  # {'Anna', 'Peter', 'Jozef'}\n"
   ]
  },
  {
   "cell_type": "code",
   "execution_count": 10,
   "id": "6b446fbc",
   "metadata": {},
   "outputs": [
    {
     "name": "stdout",
     "output_type": "stream",
     "text": [
      "0\n",
      "1\n",
      "2\n",
      "3\n",
      "4\n"
     ]
    }
   ],
   "source": [
    "for i in range(5):\n",
    "    print(i)\n",
    "    \n"
   ]
  },
  {
   "cell_type": "code",
   "execution_count": null,
   "id": "81e00ccf",
   "metadata": {},
   "outputs": [],
   "source": [
    "po"
   ]
  },
  {
   "cell_type": "code",
   "execution_count": 14,
   "id": "e2710a97",
   "metadata": {},
   "outputs": [
    {
     "name": "stdout",
     "output_type": "stream",
     "text": [
      "A\n"
     ]
    }
   ],
   "source": [
    "#Create a variable score between 0 and 100. Use control flows to assign a letter grade (A: 90-100, B: 80-89, C: 70-79, D: 60-69, F: below 60).\n",
    "\n",
    "score = 95\n",
    "\n",
    "\n",
    "\n",
    "\n",
    "if score <= 100 and score >= 90:\n",
    "    print(\"A\")\n",
    "elif score <= 89 and score >= 80:\n",
    "    print(\"B\")\n",
    "elif score <= 79 and score >= 70:\n",
    "    print(\"C\")\n",
    "elif score <= 69 and score >= 60:\n",
    "    print(\"D\")\n",
    "else: \n",
    "    print(\"F\")\n",
    "\n"
   ]
  },
  {
   "cell_type": "code",
   "execution_count": 3,
   "id": "9798f960",
   "metadata": {},
   "outputs": [
    {
     "name": "stdout",
     "output_type": "stream",
     "text": [
      "Alena\n",
      "Alena\n",
      "Alena\n",
      "Alena\n",
      "Alena\n",
      "Alena\n",
      "Alena\n",
      "Alena\n",
      "Alena\n",
      "Alena\n",
      "Alena\n"
     ]
    }
   ],
   "source": [
    "count = 1\n",
    "\n",
    "while count < 12:\n",
    "    print (\"Alena\") \n",
    "    count += 1  "
   ]
  },
  {
   "cell_type": "code",
   "execution_count": 12,
   "id": "66375ab9",
   "metadata": {},
   "outputs": [
    {
     "name": "stdout",
     "output_type": "stream",
     "text": [
      "Alena\n",
      "Alena\n",
      "Alena\n",
      "Alena\n",
      "Alena\n",
      "Alena\n",
      "Alena\n",
      "Alena\n",
      "Alena\n",
      "Alena\n",
      "Alena\n"
     ]
    }
   ],
   "source": [
    "count = 1\n",
    "\n",
    "while count < 12:\n",
    "    print (\"Alena\") \n",
    "    count +=1"
   ]
  }
 ],
 "metadata": {
  "kernelspec": {
   "display_name": "Python 3",
   "language": "python",
   "name": "python3"
  },
  "language_info": {
   "codemirror_mode": {
    "name": "ipython",
    "version": 3
   },
   "file_extension": ".py",
   "mimetype": "text/x-python",
   "name": "python",
   "nbconvert_exporter": "python",
   "pygments_lexer": "ipython3",
   "version": "3.13.5"
  }
 },
 "nbformat": 4,
 "nbformat_minor": 5
}
