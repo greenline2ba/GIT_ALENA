{
 "cells": [
  {
   "cell_type": "code",
   "execution_count": 18,
   "id": "49231669",
   "metadata": {},
   "outputs": [],
   "source": [
    "\n",
    "## 1 Napíš funkciu greet(), ktorá berie meno ako argument a vypíše \"Hello, [meno]!\". Otestuj ju so svojím vlastným menom.\n",
    "def greet(mojemeno):\n",
    "    return f\"Hello, {mojemeno}!\""
   ]
  },
  {
   "cell_type": "code",
   "execution_count": 19,
   "id": "16525eba",
   "metadata": {},
   "outputs": [
    {
     "name": "stdout",
     "output_type": "stream",
     "text": [
      "Hello, Alena!\n"
     ]
    }
   ],
   "source": [
    "print(greet(\"Alena\"))"
   ]
  },
  {
   "cell_type": "code",
   "execution_count": 20,
   "id": "6a7c0b09",
   "metadata": {},
   "outputs": [],
   "source": [
    "## 2 Napíš funkciu reverse(), ktorá berie string a vráti ten istý string ale naopak.\n",
    "def reverse(meno):\n",
    "    return meno[::-1]"
   ]
  },
  {
   "cell_type": "code",
   "execution_count": 22,
   "id": "f30e6b02",
   "metadata": {},
   "outputs": [
    {
     "name": "stdout",
     "output_type": "stream",
     "text": [
      "anelA\n"
     ]
    }
   ],
   "source": [
    "print(reverse(\"Alena\"))"
   ]
  },
  {
   "cell_type": "code",
   "execution_count": 23,
   "id": "35327a3f",
   "metadata": {},
   "outputs": [],
   "source": [
    "\n",
    "## 3 Napíš funkciu area(), ktorá berie každú unikátnu dĺžku pravouhlého symetrického štvorca a vráti jeho plochu.\n",
    "def area(x):\n",
    "    return(x*x)"
   ]
  },
  {
   "cell_type": "code",
   "execution_count": 24,
   "id": "8bab0da7",
   "metadata": {},
   "outputs": [
    {
     "name": "stdout",
     "output_type": "stream",
     "text": [
      "25\n"
     ]
    }
   ],
   "source": [
    "print(area(5))"
   ]
  },
  {
   "cell_type": "code",
   "execution_count": null,
   "id": "40f4b338",
   "metadata": {},
   "outputs": [],
   "source": [
    "## 4 Vytvor funkciu leap_year_check(), ktorá berie rok a vráti True, ak je rok prestupný.\n",
    "def leap_year_check(year)\n",
    "    if"
   ]
  },
  {
   "cell_type": "code",
   "execution_count": 9,
   "id": "f9299b91",
   "metadata": {},
   "outputs": [],
   "source": [
    "## 13 Napíš funkciu fibonacci(), ktorá berie integer n a vráti n-té Fibonacci číslo.\n",
    "def fibonacci(n):\n",
    "    if n == 0:\n",
    "        return 0              # základný prípad\n",
    "    if n == 1:\n",
    "        return 1              # ďalší základný prípad\n",
    "    else: fibonacci(n - 1) + fibonacci(n - 2)  # rekurzívne volanie\n"
   ]
  },
  {
   "cell_type": "code",
   "execution_count": 5,
   "id": "ace00d50",
   "metadata": {},
   "outputs": [
    {
     "name": "stdout",
     "output_type": "stream",
     "text": [
      "5\n",
      "13\n"
     ]
    }
   ],
   "source": [
    "print(fibonacci(5))\n",
    "print(fibonacci(7))"
   ]
  },
  {
   "cell_type": "code",
   "execution_count": 10,
   "id": "af5774f9",
   "metadata": {},
   "outputs": [],
   "source": [
    "## 14 Vytvor rekurzívnu funkciu gcd(), ktorá nájde a vráti najväčší spoločný deliteľ dvoch input integerov. (Tip: zvaž použitie Euklidovho algoritmu.)\n",
    "\n",
    "def gcd(a, b):\n",
    "    if b == 0:            # základný prípad\n",
    "        return a\n",
    "    return gcd(b, a % b)  # rekurzívne volanie"
   ]
  },
  {
   "cell_type": "code",
   "execution_count": 12,
   "id": "4e8a41ad",
   "metadata": {},
   "outputs": [
    {
     "name": "stdout",
     "output_type": "stream",
     "text": [
      "6\n",
      "25\n",
      "4\n"
     ]
    }
   ],
   "source": [
    "print(gcd(48,18))\n",
    "print(gcd(100,25))\n",
    "print(gcd(12,8))"
   ]
  },
  {
   "cell_type": "code",
   "execution_count": 1,
   "id": "c19bd371",
   "metadata": {},
   "outputs": [],
   "source": [
    "import numpy as np\n"
   ]
  },
  {
   "cell_type": "code",
   "execution_count": 2,
   "id": "6fc309c0",
   "metadata": {},
   "outputs": [],
   "source": [
    "import pandas as pd"
   ]
  },
  {
   "cell_type": "markdown",
   "metadata": {},
   "source": []
  }
 ],
 "metadata": {
  "kernelspec": {
   "display_name": "Python 3",
   "language": "python",
   "name": "python3"
  },
  "language_info": {
   "codemirror_mode": {
    "name": "ipython",
    "version": 3
   },
   "file_extension": ".py",
   "mimetype": "text/x-python",
   "name": "python",
   "nbconvert_exporter": "python",
   "pygments_lexer": "ipython3",
   "version": "3.13.5"
  }
 },
 "nbformat": 4,
 "nbformat_minor": 5
}
