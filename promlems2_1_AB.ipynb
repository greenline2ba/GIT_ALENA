{
 "cells": [
  {
   "cell_type": "code",
   "execution_count": null,
   "id": "49231669",
   "metadata": {},
   "outputs": [],
   "source": [
    "##Napíš funkciu greet(), ktorá berie meno ako argument a vypíše \"Hello, [meno]!\". Otestuj ju so svojím vlastným menom."
   ]
  }
 ],
 "metadata": {
  "language_info": {
   "name": "python"
  }
 },
 "nbformat": 4,
 "nbformat_minor": 5
}
