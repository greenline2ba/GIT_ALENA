{
 "cells": [
  {
   "cell_type": "code",
   "execution_count": 2,
   "id": "1747c52f",
   "metadata": {},
   "outputs": [
    {
     "name": "stdout",
     "output_type": "stream",
     "text": [
      "Ahoj, Marek!\n",
      "Ahoj, Juro!\n",
      "Ahoj, Fero!\n"
     ]
    }
   ],
   "source": [
    "def pozdrav_meno(meno):\n",
    "    print(f\"Ahoj, {meno}!\")\n",
    "\n",
    "pozdrav_meno(\"Marek\")\n",
    "pozdrav_meno(\"Juro\")\n",
    "pozdrav_meno(\"Fero\")\n",
    "\n",
    "\n"
   ]
  },
  {
   "cell_type": "code",
   "execution_count": 5,
   "id": "ffe13535",
   "metadata": {},
   "outputs": [
    {
     "name": "stdout",
     "output_type": "stream",
     "text": [
      "9\n"
     ]
    }
   ],
   "source": [
    "def sucet(a, b):\n",
    "    return a + b\n",
    "\n",
    "vysledok = sucet(3, 6)\n",
    "print(vysledok)\n"
   ]
  },
  {
   "cell_type": "code",
   "execution_count": null,
   "id": "da6b7322",
   "metadata": {},
   "outputs": [],
   "source": [
    "def names_alfa(name)\n",
    "\n"
   ]
  }
 ],
 "metadata": {
  "kernelspec": {
   "display_name": "Python 3",
   "language": "python",
   "name": "python3"
  },
  "language_info": {
   "codemirror_mode": {
    "name": "ipython",
    "version": 3
   },
   "file_extension": ".py",
   "mimetype": "text/x-python",
   "name": "python",
   "nbconvert_exporter": "python",
   "pygments_lexer": "ipython3",
   "version": "3.13.5"
  }
 },
 "nbformat": 4,
 "nbformat_minor": 5
}
