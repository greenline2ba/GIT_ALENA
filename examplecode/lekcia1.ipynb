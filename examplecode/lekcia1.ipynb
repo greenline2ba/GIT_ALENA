{
 "cells": [
  {
   "cell_type": "code",
   "execution_count": null,
   "id": "94d33c63",
   "metadata": {
    "vscode": {
     "languageId": "plaintext"
    }
   },
   "outputs": [],
   "source": [
    "y = 2\n",
    "printBN"
   ]
  }
 ],
 "metadata": {
  "language_info": {
   "name": "python"
  }
 },
 "nbformat": 4,
 "nbformat_minor": 5
}
